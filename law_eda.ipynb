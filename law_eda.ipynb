{
 "cells": [
  {
   "cell_type": "markdown",
   "metadata": {},
   "source": [
    "# CaseLaw dataset to assist with Law-Research - EDA\n",
    "---\n",
    "<dl>\n",
    "  <dt>Acquiring the dataset</dt>\n",
    "  <dd>We initially use dataset of all cases in USA to be able to train it and as a proof of concept.</dd>\n",
    "  <dd>The dataset is available in XML format, which we will put in mongodb or firebase format based on how unstructured the dataset is.</dd>\n",
    "    <dd>dataset url: (https://case.law/)\n",
    "</dd>\n",
    "\n",
    "  <dt>Research</dt>\n",
    "  <dd>We are looking into <em>NLP</em>, <em>LSTM</em> and <em>Sentiment Analysis</em>.</dd>\n",
    "</dl>"
   ]
  },
  {
   "cell_type": "code",
   "execution_count": 1,
   "metadata": {},
   "outputs": [],
   "source": [
    "import jsonlines\n",
    "from pymongo import MongoClient"
   ]
  },
  {
   "cell_type": "code",
   "execution_count": 2,
   "metadata": {},
   "outputs": [],
   "source": [
    "# client = MongoClient()\n",
    "client = MongoClient()\n",
    "db = client.legal_ai\n",
    "cases = db.cases"
   ]
  },
  {
   "cell_type": "code",
   "execution_count": 3,
   "metadata": {},
   "outputs": [],
   "source": [
    "some_date = '1820-01'"
   ]
  },
  {
   "cell_type": "code",
   "execution_count": 4,
   "metadata": {},
   "outputs": [
    {
     "name": "stdout",
     "output_type": "stream",
     "text": [
      "True\n"
     ]
    }
   ],
   "source": [
    "print(int(some_date[0:4])<1950)"
   ]
  },
  {
   "cell_type": "code",
   "execution_count": 5,
   "metadata": {},
   "outputs": [],
   "source": [
    "id_saved = []\n",
    "with jsonlines.open('data.jsonl') as reader:\n",
    "    for obj in reader:\n",
    "        if int(obj['decision_date'][0:4])>1950:\n",
    "            case_id = cases.insert_one(obj).inserted_id\n",
    "            id_saved.append(case_id)"
   ]
  },
  {
   "cell_type": "code",
   "execution_count": 6,
   "metadata": {},
   "outputs": [
    {
     "data": {
      "text/plain": [
       "30075"
      ]
     },
     "execution_count": 6,
     "metadata": {},
     "output_type": "execute_result"
    }
   ],
   "source": [
    "len(id_saved)"
   ]
  },
  {
   "cell_type": "code",
   "execution_count": 7,
   "metadata": {},
   "outputs": [
    {
     "ename": "AttributeError",
     "evalue": "'Dict' object has no attribute 'synonym'",
     "output_type": "error",
     "traceback": [
      "\u001b[0;31m---------------------------------------------------------------------------\u001b[0m",
      "\u001b[0;31mAttributeError\u001b[0m                            Traceback (most recent call last)",
      "\u001b[0;32m<ipython-input-7-275e6aa130b9>\u001b[0m in \u001b[0;36m<module>\u001b[0;34m()\u001b[0m\n\u001b[1;32m      2\u001b[0m \u001b[0;32mimport\u001b[0m \u001b[0menchant\u001b[0m\u001b[0;34m\u001b[0m\u001b[0m\n\u001b[1;32m      3\u001b[0m \u001b[0md\u001b[0m \u001b[0;34m=\u001b[0m \u001b[0menchant\u001b[0m\u001b[0;34m.\u001b[0m\u001b[0mDict\u001b[0m\u001b[0;34m(\u001b[0m\u001b[0;34m\"en_US\"\u001b[0m\u001b[0;34m)\u001b[0m\u001b[0;34m\u001b[0m\u001b[0m\n\u001b[0;32m----> 4\u001b[0;31m \u001b[0md\u001b[0m\u001b[0;34m.\u001b[0m\u001b[0msynonym\u001b[0m\u001b[0;34m(\u001b[0m\u001b[0;34m\"contract\"\u001b[0m\u001b[0;34m)\u001b[0m\u001b[0;34m\u001b[0m\u001b[0m\n\u001b[0m",
      "\u001b[0;31mAttributeError\u001b[0m: 'Dict' object has no attribute 'synonym'"
     ]
    }
   ],
   "source": [
    "# 2 Keyword generation?\n",
    "import enchant\n",
    "d = enchant.Dict(\"en_US\")\n",
    "d.synonym(\"contract\")"
   ]
  },
  {
   "cell_type": "code",
   "execution_count": 8,
   "metadata": {},
   "outputs": [
    {
     "name": "stdout",
     "output_type": "stream",
     "text": [
      "No Internet Connection\n",
      "[]\n",
      "No Internet Connection\n",
      "[]\n",
      "No Internet Connection\n",
      "[]\n"
     ]
    }
   ],
   "source": [
    "from py_thesaurus import Thesaurus\n",
    "\n",
    "input_word = \"dream\"\n",
    "\n",
    "new_instance = Thesaurus(input_word)\n",
    "\n",
    "# Get the synonyms according to part of speech\n",
    "# Default part of speech is noun\n",
    "\n",
    "print(new_instance.get_synonym())\n",
    "\n",
    "print(new_instance.get_synonym(pos='verb'))\n",
    "\n",
    "print(new_instance.get_synonym(pos='adj'))"
   ]
  },
  {
   "cell_type": "code",
   "execution_count": 60,
   "metadata": {},
   "outputs": [
    {
     "name": "stdout",
     "output_type": "stream",
     "text": [
      "[]\n"
     ]
    }
   ],
   "source": [
    "from PyDictionary import PyDictionary\n",
    "dictionary=PyDictionary()\n",
    "print (dictionary.meaning(\"indentation\"))"
   ]
  },
  {
   "cell_type": "markdown",
   "metadata": {},
   "source": [
    "## Testing out Similarity Mechanism\n",
    "---\n",
    "### Setup\n",
    "- Test PyDictionary to build keywords\n",
    "- Construct a mechanism, to extract keywords, and store in a searchable manner.\n",
    "---\n",
    "### Search\n",
    "- Build keywords out of your search\n",
    "- Search among dataset keywords\n",
    "- Nearest dates, highest weight, highest precidence shows up\n",
    "- Pagination scroll, continues the search."
   ]
  },
  {
   "cell_type": "code",
   "execution_count": 6,
   "metadata": {},
   "outputs": [],
   "source": [
    "# Assume this dataset\n",
    "dataset = [\"The contract was breached by the defendant\", \"The defendant assaulted the victim on multiple occassions\"]"
   ]
  },
  {
   "cell_type": "code",
   "execution_count": 30,
   "metadata": {},
   "outputs": [],
   "source": [
    "# Build keywords for this dataset. \n",
    "from rake_nltk import Rake\n",
    "from nltk.corpus import stopwords \n",
    "r = Rake() # Uses stopwords for english from NLTK, and all puntuation characters.\n",
    "keyword_dataset = []"
   ]
  },
  {
   "cell_type": "code",
   "execution_count": 31,
   "metadata": {},
   "outputs": [],
   "source": [
    "text=\"The contract was breached by the defendant\"\n",
    "for each_text in dataset:\n",
    "    a=r.extract_keywords_from_text(each_text)\n",
    "    b=r.get_ranked_phrases()\n",
    "    c=r.get_ranked_phrases_with_scores()\n",
    "    keyword_dataset.append(c)"
   ]
  },
  {
   "cell_type": "code",
   "execution_count": 32,
   "metadata": {},
   "outputs": [
    {
     "data": {
      "text/plain": [
       "[[(1.0, 'defendant'), (1.0, 'contract'), (1.0, 'breached')],\n",
       " [(4.0, 'multiple occassions'), (4.0, 'defendant assaulted'), (1.0, 'victim')]]"
      ]
     },
     "execution_count": 32,
     "metadata": {},
     "output_type": "execute_result"
    }
   ],
   "source": [
    "keyword_dataset"
   ]
  },
  {
   "cell_type": "code",
   "execution_count": 34,
   "metadata": {},
   "outputs": [],
   "source": [
    "from PyDictionary import PyDictionary\n",
    "dictionary=PyDictionary()\n"
   ]
  },
  {
   "cell_type": "code",
   "execution_count": 35,
   "metadata": {},
   "outputs": [
    {
     "ename": "KeyboardInterrupt",
     "evalue": "",
     "output_type": "error",
     "traceback": [
      "\u001b[0;31m---------------------------------------------------------------------------\u001b[0m",
      "\u001b[0;31mTypeError\u001b[0m                                 Traceback (most recent call last)",
      "\u001b[0;32m~/anaconda3/lib/python3.7/site-packages/urllib3/connectionpool.py\u001b[0m in \u001b[0;36m_make_request\u001b[0;34m(self, conn, method, url, timeout, chunked, **httplib_request_kw)\u001b[0m\n\u001b[1;32m    376\u001b[0m             \u001b[0;32mtry\u001b[0m\u001b[0;34m:\u001b[0m  \u001b[0;31m# Python 2.7, use buffering of HTTP responses\u001b[0m\u001b[0;34m\u001b[0m\u001b[0m\n\u001b[0;32m--> 377\u001b[0;31m                 \u001b[0mhttplib_response\u001b[0m \u001b[0;34m=\u001b[0m \u001b[0mconn\u001b[0m\u001b[0;34m.\u001b[0m\u001b[0mgetresponse\u001b[0m\u001b[0;34m(\u001b[0m\u001b[0mbuffering\u001b[0m\u001b[0;34m=\u001b[0m\u001b[0;32mTrue\u001b[0m\u001b[0;34m)\u001b[0m\u001b[0;34m\u001b[0m\u001b[0m\n\u001b[0m\u001b[1;32m    378\u001b[0m             \u001b[0;32mexcept\u001b[0m \u001b[0mTypeError\u001b[0m\u001b[0;34m:\u001b[0m  \u001b[0;31m# Python 2.6 and older, Python 3\u001b[0m\u001b[0;34m\u001b[0m\u001b[0m\n",
      "\u001b[0;31mTypeError\u001b[0m: getresponse() got an unexpected keyword argument 'buffering'",
      "\nDuring handling of the above exception, another exception occurred:\n",
      "\u001b[0;31mKeyboardInterrupt\u001b[0m                         Traceback (most recent call last)",
      "\u001b[0;32m<ipython-input-35-8a07ae2d06b0>\u001b[0m in \u001b[0;36m<module>\u001b[0;34m()\u001b[0m\n\u001b[0;32m----> 1\u001b[0;31m \u001b[0mdictionary\u001b[0m\u001b[0;34m.\u001b[0m\u001b[0mmeaning\u001b[0m\u001b[0;34m(\u001b[0m\u001b[0;34m\"defendant\"\u001b[0m\u001b[0;34m)\u001b[0m\u001b[0;34m\u001b[0m\u001b[0m\n\u001b[0m",
      "\u001b[0;32m~/anaconda3/lib/python3.7/site-packages/PyDictionary/core.py\u001b[0m in \u001b[0;36mmeaning\u001b[0;34m(term)\u001b[0m\n\u001b[1;32m    120\u001b[0m             \u001b[0;32mtry\u001b[0m\u001b[0;34m:\u001b[0m\u001b[0;34m\u001b[0m\u001b[0m\n\u001b[1;32m    121\u001b[0m                 html = _get_soup_object(\"http://wordnetweb.princeton.edu/perl/webwn?s={0}\".format(\n\u001b[0;32m--> 122\u001b[0;31m                     term))\n\u001b[0m\u001b[1;32m    123\u001b[0m                 \u001b[0mtypes\u001b[0m \u001b[0;34m=\u001b[0m \u001b[0mhtml\u001b[0m\u001b[0;34m.\u001b[0m\u001b[0mfindAll\u001b[0m\u001b[0;34m(\u001b[0m\u001b[0;34m\"h3\"\u001b[0m\u001b[0;34m)\u001b[0m\u001b[0;34m\u001b[0m\u001b[0m\n\u001b[1;32m    124\u001b[0m                 \u001b[0mlength\u001b[0m \u001b[0;34m=\u001b[0m \u001b[0mlen\u001b[0m\u001b[0;34m(\u001b[0m\u001b[0mtypes\u001b[0m\u001b[0;34m)\u001b[0m\u001b[0;34m\u001b[0m\u001b[0m\n",
      "\u001b[0;32m~/anaconda3/lib/python3.7/site-packages/PyDictionary/utils.py\u001b[0m in \u001b[0;36m_get_soup_object\u001b[0;34m(url)\u001b[0m\n\u001b[1;32m      3\u001b[0m \u001b[0;34m\u001b[0m\u001b[0m\n\u001b[1;32m      4\u001b[0m \u001b[0;32mdef\u001b[0m \u001b[0m_get_soup_object\u001b[0m\u001b[0;34m(\u001b[0m\u001b[0murl\u001b[0m\u001b[0;34m)\u001b[0m\u001b[0;34m:\u001b[0m\u001b[0;34m\u001b[0m\u001b[0m\n\u001b[0;32m----> 5\u001b[0;31m         \u001b[0;32mreturn\u001b[0m \u001b[0mBeautifulSoup\u001b[0m\u001b[0;34m(\u001b[0m\u001b[0mrequests\u001b[0m\u001b[0;34m.\u001b[0m\u001b[0mget\u001b[0m\u001b[0;34m(\u001b[0m\u001b[0murl\u001b[0m\u001b[0;34m)\u001b[0m\u001b[0;34m.\u001b[0m\u001b[0mtext\u001b[0m\u001b[0;34m)\u001b[0m\u001b[0;34m\u001b[0m\u001b[0m\n\u001b[0m",
      "\u001b[0;32m~/anaconda3/lib/python3.7/site-packages/requests/api.py\u001b[0m in \u001b[0;36mget\u001b[0;34m(url, params, **kwargs)\u001b[0m\n\u001b[1;32m     70\u001b[0m \u001b[0;34m\u001b[0m\u001b[0m\n\u001b[1;32m     71\u001b[0m     \u001b[0mkwargs\u001b[0m\u001b[0;34m.\u001b[0m\u001b[0msetdefault\u001b[0m\u001b[0;34m(\u001b[0m\u001b[0;34m'allow_redirects'\u001b[0m\u001b[0;34m,\u001b[0m \u001b[0;32mTrue\u001b[0m\u001b[0;34m)\u001b[0m\u001b[0;34m\u001b[0m\u001b[0m\n\u001b[0;32m---> 72\u001b[0;31m     \u001b[0;32mreturn\u001b[0m \u001b[0mrequest\u001b[0m\u001b[0;34m(\u001b[0m\u001b[0;34m'get'\u001b[0m\u001b[0;34m,\u001b[0m \u001b[0murl\u001b[0m\u001b[0;34m,\u001b[0m \u001b[0mparams\u001b[0m\u001b[0;34m=\u001b[0m\u001b[0mparams\u001b[0m\u001b[0;34m,\u001b[0m \u001b[0;34m**\u001b[0m\u001b[0mkwargs\u001b[0m\u001b[0;34m)\u001b[0m\u001b[0;34m\u001b[0m\u001b[0m\n\u001b[0m\u001b[1;32m     73\u001b[0m \u001b[0;34m\u001b[0m\u001b[0m\n\u001b[1;32m     74\u001b[0m \u001b[0;34m\u001b[0m\u001b[0m\n",
      "\u001b[0;32m~/anaconda3/lib/python3.7/site-packages/requests/api.py\u001b[0m in \u001b[0;36mrequest\u001b[0;34m(method, url, **kwargs)\u001b[0m\n\u001b[1;32m     56\u001b[0m     \u001b[0;31m# cases, and look like a memory leak in others.\u001b[0m\u001b[0;34m\u001b[0m\u001b[0;34m\u001b[0m\u001b[0m\n\u001b[1;32m     57\u001b[0m     \u001b[0;32mwith\u001b[0m \u001b[0msessions\u001b[0m\u001b[0;34m.\u001b[0m\u001b[0mSession\u001b[0m\u001b[0;34m(\u001b[0m\u001b[0;34m)\u001b[0m \u001b[0;32mas\u001b[0m \u001b[0msession\u001b[0m\u001b[0;34m:\u001b[0m\u001b[0;34m\u001b[0m\u001b[0m\n\u001b[0;32m---> 58\u001b[0;31m         \u001b[0;32mreturn\u001b[0m \u001b[0msession\u001b[0m\u001b[0;34m.\u001b[0m\u001b[0mrequest\u001b[0m\u001b[0;34m(\u001b[0m\u001b[0mmethod\u001b[0m\u001b[0;34m=\u001b[0m\u001b[0mmethod\u001b[0m\u001b[0;34m,\u001b[0m \u001b[0murl\u001b[0m\u001b[0;34m=\u001b[0m\u001b[0murl\u001b[0m\u001b[0;34m,\u001b[0m \u001b[0;34m**\u001b[0m\u001b[0mkwargs\u001b[0m\u001b[0;34m)\u001b[0m\u001b[0;34m\u001b[0m\u001b[0m\n\u001b[0m\u001b[1;32m     59\u001b[0m \u001b[0;34m\u001b[0m\u001b[0m\n\u001b[1;32m     60\u001b[0m \u001b[0;34m\u001b[0m\u001b[0m\n",
      "\u001b[0;32m~/anaconda3/lib/python3.7/site-packages/requests/sessions.py\u001b[0m in \u001b[0;36mrequest\u001b[0;34m(self, method, url, params, data, headers, cookies, files, auth, timeout, allow_redirects, proxies, hooks, stream, verify, cert, json)\u001b[0m\n\u001b[1;32m    510\u001b[0m         }\n\u001b[1;32m    511\u001b[0m         \u001b[0msend_kwargs\u001b[0m\u001b[0;34m.\u001b[0m\u001b[0mupdate\u001b[0m\u001b[0;34m(\u001b[0m\u001b[0msettings\u001b[0m\u001b[0;34m)\u001b[0m\u001b[0;34m\u001b[0m\u001b[0m\n\u001b[0;32m--> 512\u001b[0;31m         \u001b[0mresp\u001b[0m \u001b[0;34m=\u001b[0m \u001b[0mself\u001b[0m\u001b[0;34m.\u001b[0m\u001b[0msend\u001b[0m\u001b[0;34m(\u001b[0m\u001b[0mprep\u001b[0m\u001b[0;34m,\u001b[0m \u001b[0;34m**\u001b[0m\u001b[0msend_kwargs\u001b[0m\u001b[0;34m)\u001b[0m\u001b[0;34m\u001b[0m\u001b[0m\n\u001b[0m\u001b[1;32m    513\u001b[0m \u001b[0;34m\u001b[0m\u001b[0m\n\u001b[1;32m    514\u001b[0m         \u001b[0;32mreturn\u001b[0m \u001b[0mresp\u001b[0m\u001b[0;34m\u001b[0m\u001b[0m\n",
      "\u001b[0;32m~/anaconda3/lib/python3.7/site-packages/requests/sessions.py\u001b[0m in \u001b[0;36msend\u001b[0;34m(self, request, **kwargs)\u001b[0m\n\u001b[1;32m    620\u001b[0m \u001b[0;34m\u001b[0m\u001b[0m\n\u001b[1;32m    621\u001b[0m         \u001b[0;31m# Send the request\u001b[0m\u001b[0;34m\u001b[0m\u001b[0;34m\u001b[0m\u001b[0m\n\u001b[0;32m--> 622\u001b[0;31m         \u001b[0mr\u001b[0m \u001b[0;34m=\u001b[0m \u001b[0madapter\u001b[0m\u001b[0;34m.\u001b[0m\u001b[0msend\u001b[0m\u001b[0;34m(\u001b[0m\u001b[0mrequest\u001b[0m\u001b[0;34m,\u001b[0m \u001b[0;34m**\u001b[0m\u001b[0mkwargs\u001b[0m\u001b[0;34m)\u001b[0m\u001b[0;34m\u001b[0m\u001b[0m\n\u001b[0m\u001b[1;32m    623\u001b[0m \u001b[0;34m\u001b[0m\u001b[0m\n\u001b[1;32m    624\u001b[0m         \u001b[0;31m# Total elapsed time of the request (approximately)\u001b[0m\u001b[0;34m\u001b[0m\u001b[0;34m\u001b[0m\u001b[0m\n",
      "\u001b[0;32m~/anaconda3/lib/python3.7/site-packages/requests/adapters.py\u001b[0m in \u001b[0;36msend\u001b[0;34m(self, request, stream, timeout, verify, cert, proxies)\u001b[0m\n\u001b[1;32m    443\u001b[0m                     \u001b[0mdecode_content\u001b[0m\u001b[0;34m=\u001b[0m\u001b[0;32mFalse\u001b[0m\u001b[0;34m,\u001b[0m\u001b[0;34m\u001b[0m\u001b[0m\n\u001b[1;32m    444\u001b[0m                     \u001b[0mretries\u001b[0m\u001b[0;34m=\u001b[0m\u001b[0mself\u001b[0m\u001b[0;34m.\u001b[0m\u001b[0mmax_retries\u001b[0m\u001b[0;34m,\u001b[0m\u001b[0;34m\u001b[0m\u001b[0m\n\u001b[0;32m--> 445\u001b[0;31m                     \u001b[0mtimeout\u001b[0m\u001b[0;34m=\u001b[0m\u001b[0mtimeout\u001b[0m\u001b[0;34m\u001b[0m\u001b[0m\n\u001b[0m\u001b[1;32m    446\u001b[0m                 )\n\u001b[1;32m    447\u001b[0m \u001b[0;34m\u001b[0m\u001b[0m\n",
      "\u001b[0;32m~/anaconda3/lib/python3.7/site-packages/urllib3/connectionpool.py\u001b[0m in \u001b[0;36murlopen\u001b[0;34m(self, method, url, body, headers, retries, redirect, assert_same_host, timeout, pool_timeout, release_conn, chunked, body_pos, **response_kw)\u001b[0m\n\u001b[1;32m    598\u001b[0m                                                   \u001b[0mtimeout\u001b[0m\u001b[0;34m=\u001b[0m\u001b[0mtimeout_obj\u001b[0m\u001b[0;34m,\u001b[0m\u001b[0;34m\u001b[0m\u001b[0m\n\u001b[1;32m    599\u001b[0m                                                   \u001b[0mbody\u001b[0m\u001b[0;34m=\u001b[0m\u001b[0mbody\u001b[0m\u001b[0;34m,\u001b[0m \u001b[0mheaders\u001b[0m\u001b[0;34m=\u001b[0m\u001b[0mheaders\u001b[0m\u001b[0;34m,\u001b[0m\u001b[0;34m\u001b[0m\u001b[0m\n\u001b[0;32m--> 600\u001b[0;31m                                                   chunked=chunked)\n\u001b[0m\u001b[1;32m    601\u001b[0m \u001b[0;34m\u001b[0m\u001b[0m\n\u001b[1;32m    602\u001b[0m             \u001b[0;31m# If we're going to release the connection in ``finally:``, then\u001b[0m\u001b[0;34m\u001b[0m\u001b[0;34m\u001b[0m\u001b[0m\n",
      "\u001b[0;32m~/anaconda3/lib/python3.7/site-packages/urllib3/connectionpool.py\u001b[0m in \u001b[0;36m_make_request\u001b[0;34m(self, conn, method, url, timeout, chunked, **httplib_request_kw)\u001b[0m\n\u001b[1;32m    378\u001b[0m             \u001b[0;32mexcept\u001b[0m \u001b[0mTypeError\u001b[0m\u001b[0;34m:\u001b[0m  \u001b[0;31m# Python 2.6 and older, Python 3\u001b[0m\u001b[0;34m\u001b[0m\u001b[0m\n\u001b[1;32m    379\u001b[0m                 \u001b[0;32mtry\u001b[0m\u001b[0;34m:\u001b[0m\u001b[0;34m\u001b[0m\u001b[0m\n\u001b[0;32m--> 380\u001b[0;31m                     \u001b[0mhttplib_response\u001b[0m \u001b[0;34m=\u001b[0m \u001b[0mconn\u001b[0m\u001b[0;34m.\u001b[0m\u001b[0mgetresponse\u001b[0m\u001b[0;34m(\u001b[0m\u001b[0;34m)\u001b[0m\u001b[0;34m\u001b[0m\u001b[0m\n\u001b[0m\u001b[1;32m    381\u001b[0m                 \u001b[0;32mexcept\u001b[0m \u001b[0mException\u001b[0m \u001b[0;32mas\u001b[0m \u001b[0me\u001b[0m\u001b[0;34m:\u001b[0m\u001b[0;34m\u001b[0m\u001b[0m\n\u001b[1;32m    382\u001b[0m                     \u001b[0;31m# Remove the TypeError from the exception chain in Python 3;\u001b[0m\u001b[0;34m\u001b[0m\u001b[0;34m\u001b[0m\u001b[0m\n",
      "\u001b[0;32m~/anaconda3/lib/python3.7/http/client.py\u001b[0m in \u001b[0;36mgetresponse\u001b[0;34m(self)\u001b[0m\n\u001b[1;32m   1319\u001b[0m         \u001b[0;32mtry\u001b[0m\u001b[0;34m:\u001b[0m\u001b[0;34m\u001b[0m\u001b[0m\n\u001b[1;32m   1320\u001b[0m             \u001b[0;32mtry\u001b[0m\u001b[0;34m:\u001b[0m\u001b[0;34m\u001b[0m\u001b[0m\n\u001b[0;32m-> 1321\u001b[0;31m                 \u001b[0mresponse\u001b[0m\u001b[0;34m.\u001b[0m\u001b[0mbegin\u001b[0m\u001b[0;34m(\u001b[0m\u001b[0;34m)\u001b[0m\u001b[0;34m\u001b[0m\u001b[0m\n\u001b[0m\u001b[1;32m   1322\u001b[0m             \u001b[0;32mexcept\u001b[0m \u001b[0mConnectionError\u001b[0m\u001b[0;34m:\u001b[0m\u001b[0;34m\u001b[0m\u001b[0m\n\u001b[1;32m   1323\u001b[0m                 \u001b[0mself\u001b[0m\u001b[0;34m.\u001b[0m\u001b[0mclose\u001b[0m\u001b[0;34m(\u001b[0m\u001b[0;34m)\u001b[0m\u001b[0;34m\u001b[0m\u001b[0m\n",
      "\u001b[0;32m~/anaconda3/lib/python3.7/http/client.py\u001b[0m in \u001b[0;36mbegin\u001b[0;34m(self)\u001b[0m\n\u001b[1;32m    294\u001b[0m         \u001b[0;31m# read until we get a non-100 response\u001b[0m\u001b[0;34m\u001b[0m\u001b[0;34m\u001b[0m\u001b[0m\n\u001b[1;32m    295\u001b[0m         \u001b[0;32mwhile\u001b[0m \u001b[0;32mTrue\u001b[0m\u001b[0;34m:\u001b[0m\u001b[0;34m\u001b[0m\u001b[0m\n\u001b[0;32m--> 296\u001b[0;31m             \u001b[0mversion\u001b[0m\u001b[0;34m,\u001b[0m \u001b[0mstatus\u001b[0m\u001b[0;34m,\u001b[0m \u001b[0mreason\u001b[0m \u001b[0;34m=\u001b[0m \u001b[0mself\u001b[0m\u001b[0;34m.\u001b[0m\u001b[0m_read_status\u001b[0m\u001b[0;34m(\u001b[0m\u001b[0;34m)\u001b[0m\u001b[0;34m\u001b[0m\u001b[0m\n\u001b[0m\u001b[1;32m    297\u001b[0m             \u001b[0;32mif\u001b[0m \u001b[0mstatus\u001b[0m \u001b[0;34m!=\u001b[0m \u001b[0mCONTINUE\u001b[0m\u001b[0;34m:\u001b[0m\u001b[0;34m\u001b[0m\u001b[0m\n\u001b[1;32m    298\u001b[0m                 \u001b[0;32mbreak\u001b[0m\u001b[0;34m\u001b[0m\u001b[0m\n",
      "\u001b[0;32m~/anaconda3/lib/python3.7/http/client.py\u001b[0m in \u001b[0;36m_read_status\u001b[0;34m(self)\u001b[0m\n\u001b[1;32m    255\u001b[0m \u001b[0;34m\u001b[0m\u001b[0m\n\u001b[1;32m    256\u001b[0m     \u001b[0;32mdef\u001b[0m \u001b[0m_read_status\u001b[0m\u001b[0;34m(\u001b[0m\u001b[0mself\u001b[0m\u001b[0;34m)\u001b[0m\u001b[0;34m:\u001b[0m\u001b[0;34m\u001b[0m\u001b[0m\n\u001b[0;32m--> 257\u001b[0;31m         \u001b[0mline\u001b[0m \u001b[0;34m=\u001b[0m \u001b[0mstr\u001b[0m\u001b[0;34m(\u001b[0m\u001b[0mself\u001b[0m\u001b[0;34m.\u001b[0m\u001b[0mfp\u001b[0m\u001b[0;34m.\u001b[0m\u001b[0mreadline\u001b[0m\u001b[0;34m(\u001b[0m\u001b[0m_MAXLINE\u001b[0m \u001b[0;34m+\u001b[0m \u001b[0;36m1\u001b[0m\u001b[0;34m)\u001b[0m\u001b[0;34m,\u001b[0m \u001b[0;34m\"iso-8859-1\"\u001b[0m\u001b[0;34m)\u001b[0m\u001b[0;34m\u001b[0m\u001b[0m\n\u001b[0m\u001b[1;32m    258\u001b[0m         \u001b[0;32mif\u001b[0m \u001b[0mlen\u001b[0m\u001b[0;34m(\u001b[0m\u001b[0mline\u001b[0m\u001b[0;34m)\u001b[0m \u001b[0;34m>\u001b[0m \u001b[0m_MAXLINE\u001b[0m\u001b[0;34m:\u001b[0m\u001b[0;34m\u001b[0m\u001b[0m\n\u001b[1;32m    259\u001b[0m             \u001b[0;32mraise\u001b[0m \u001b[0mLineTooLong\u001b[0m\u001b[0;34m(\u001b[0m\u001b[0;34m\"status line\"\u001b[0m\u001b[0;34m)\u001b[0m\u001b[0;34m\u001b[0m\u001b[0m\n",
      "\u001b[0;32m~/anaconda3/lib/python3.7/socket.py\u001b[0m in \u001b[0;36mreadinto\u001b[0;34m(self, b)\u001b[0m\n\u001b[1;32m    587\u001b[0m         \u001b[0;32mwhile\u001b[0m \u001b[0;32mTrue\u001b[0m\u001b[0;34m:\u001b[0m\u001b[0;34m\u001b[0m\u001b[0m\n\u001b[1;32m    588\u001b[0m             \u001b[0;32mtry\u001b[0m\u001b[0;34m:\u001b[0m\u001b[0;34m\u001b[0m\u001b[0m\n\u001b[0;32m--> 589\u001b[0;31m                 \u001b[0;32mreturn\u001b[0m \u001b[0mself\u001b[0m\u001b[0;34m.\u001b[0m\u001b[0m_sock\u001b[0m\u001b[0;34m.\u001b[0m\u001b[0mrecv_into\u001b[0m\u001b[0;34m(\u001b[0m\u001b[0mb\u001b[0m\u001b[0;34m)\u001b[0m\u001b[0;34m\u001b[0m\u001b[0m\n\u001b[0m\u001b[1;32m    590\u001b[0m             \u001b[0;32mexcept\u001b[0m \u001b[0mtimeout\u001b[0m\u001b[0;34m:\u001b[0m\u001b[0;34m\u001b[0m\u001b[0m\n\u001b[1;32m    591\u001b[0m                 \u001b[0mself\u001b[0m\u001b[0;34m.\u001b[0m\u001b[0m_timeout_occurred\u001b[0m \u001b[0;34m=\u001b[0m \u001b[0;32mTrue\u001b[0m\u001b[0;34m\u001b[0m\u001b[0m\n",
      "\u001b[0;31mKeyboardInterrupt\u001b[0m: "
     ]
    }
   ],
   "source": [
    "dictionary.meaning(\"defendant\")"
   ]
  },
  {
   "cell_type": "code",
   "execution_count": 36,
   "metadata": {},
   "outputs": [
    {
     "name": "stdout",
     "output_type": "stream",
     "text": [
      "Life has no Synonyms in the API\n"
     ]
    },
    {
     "name": "stderr",
     "output_type": "stream",
     "text": [
      "/Users/flynsequeira/anaconda3/lib/python3.7/site-packages/PyDictionary/utils.py:5: UserWarning: No parser was explicitly specified, so I'm using the best available HTML parser for this system (\"lxml\"). This usually isn't a problem, but if you run this code on another system, or in a different virtual environment, it may use a different parser and behave differently.\n",
      "\n",
      "The code that caused this warning is on line 5 of the file /Users/flynsequeira/anaconda3/lib/python3.7/site-packages/PyDictionary/utils.py. To get rid of this warning, pass the additional argument 'features=\"lxml\"' to the BeautifulSoup constructor.\n",
      "\n",
      "  return BeautifulSoup(requests.get(url).text)\n"
     ]
    }
   ],
   "source": [
    "dictionary.synonym(\"Life\")"
   ]
  },
  {
   "cell_type": "markdown",
   "metadata": {},
   "source": [
    "## Transforming dataset\n",
    "---\n",
    "### Extract the first data and study it\n",
    "- Identify the key elements that need to be transformed & list them\n",
    "- Build a mechanism to transform for one datapoint.\n",
    "---\n",
    "### Perform for entire dataset\n",
    "- Run a loop and apply the same changes for every datapoints."
   ]
  },
  {
   "cell_type": "code",
   "execution_count": 23,
   "metadata": {},
   "outputs": [],
   "source": [
    "# Extracting the first element\n",
    "first_case = cases.find_one()"
   ]
  },
  {
   "cell_type": "code",
   "execution_count": 10,
   "metadata": {},
   "outputs": [
    {
     "data": {
      "text/plain": [
       "{'_id': ObjectId('5c0588bd08ef95023a285d30'),\n",
       " 'id': 1611959,\n",
       " 'name': 'Arkansas Game and Fish Commission v. Edgmon',\n",
       " 'name_abbreviation': 'Arkansas Game & Fish Commission v. Edgmon',\n",
       " 'decision_date': '1951-01-15',\n",
       " 'docket_number': '4-9304',\n",
       " 'first_page': '207',\n",
       " 'last_page': '211',\n",
       " 'citations': [{'type': 'parallel', 'cite': '235 S.W.2d 554'},\n",
       "  {'type': 'official', 'cite': '218 Ark. 207'}],\n",
       " 'volume': {'volume_number': '218'},\n",
       " 'reporter': {'full_name': 'Arkansas Reports'},\n",
       " 'court': {'id': 8808,\n",
       "  'name': 'Arkansas Supreme Court',\n",
       "  'name_abbreviation': 'Ark.',\n",
       "  'jurisdiction_url': None,\n",
       "  'slug': 'ark'},\n",
       " 'jurisdiction': {'id': 34,\n",
       "  'slug': 'ark',\n",
       "  'name': 'Ark.',\n",
       "  'name_long': 'Arkansas',\n",
       "  'whitelisted': True},\n",
       " 'casebody': {'data': '<?xml version=\\'1.0\\' encoding=\\'utf-8\\'?>\\n<casebody xmlns=\"http://nrs.harvard.edu/urn-3:HLS.Libr.US_Case_Law.Schema.Case_Body:v1\" xmlns:xlink=\"http://www.w3.org/1999/xlink\" firstpage=\"207\" lastpage=\"211\"> <docketnumber id=\"b231-6\" pgmap=\"231\">4-9304</docketnumber> <citation id=\"A2j\" pgmap=\"231\">235 S. W. 2d 554</citation> <parties id=\"b231-5\" pgmap=\"231\">Arkansas Game and Fish Commission v. Edgmon.</parties> <decisiondate id=\"b231-7\" pgmap=\"231\">Opinion delivered January 15, 1951.</decisiondate> <attorneys id=\"b232-4\" pgmap=\"232\">Ed E. Ashbaugh, for appellant.</attorneys> <attorneys id=\"b232-5\" pgmap=\"232\">Neill Bohlinger, for intervening appellant.</attorneys> <opinion type=\"majority\"> <author id=\"b232-6\" pgmap=\"232\">Grieein Smith, Chief Justice.</author> <p id=\"ASCi\" pgmap=\"232\">The executive secretary of the State Game and Fish, Commission declined to authorize payment of $105 to four persons who claimed to have killed seven wolves over six months old, as evidenced by certificate of the Boone County Court. See Act 183 of 1949. The statute is entitled “An Act to authorize . . . counties ... to pay bounties for the killing of wolves and to provide that the State . . . shall pay an equal sum as a bounty, and for other purposes.” The emergency clause is a finding that farmers are suffering irreparable damage ‘£ from wolves destroying cattle and other live stock.” The measure received two-thirds of the votes of all members elected to each branch of the General Assembly.</p> <p id=\"b232-8\" pgmap=\"232\">The complaint is a petition for mandamus alleging that Boone county has paid bounties on the basis of $20 for each wolf killed; but, § 2 of Act 183, the amount payable by the State cannot exceed $15.</p> <p id=\"b232-9\" pgmap=\"232\">The answer, among other defenses, asserts that T. H. McAmis as Secretary of the Game and Fish Commission, Sec. 7, Amendment No. 35 to the Constitution, is not permitted to disburse the fund unless the Commission expressly directs payment; that none of the scalps for which a bounty is claimed is that of a wolf, hence the public has been defrauded by the substitution of dog scalps; and further, Act 183 is void because it is in conflict with Amendment 35 in that appropriations by the General Assembly may only be made for purposes enumerated in the Amendment or coming within its scope by necessary implication.</p> <p id=\"b232-10\" pgmap=\"232(48) 233(29)\">The Chancellor held that the certificate issued by the County Judge was conclusive and rejected expert witnesses who would have testified that the scalps came from dogs. One of the witnesses had spent 22 years as an employe of the TJ. S. Fish and Wild Life Service, trapping wolves in ten states. His reasons for asserting that the scalps in question were spurious were set out in detail for the purpose of making up a record.</p> <p id=\"b233-5\" pgmap=\"233\">Power of the Legislature to change an initiated constitutional amendment is presented by the plea that Act 183 received two-thirds of the votes of each branch of the lawmaking body. The Act, by § 4, appropriates from the Game Protection Fund $6,000 for each year of the biennium ending June 30, 1951, to pay bounties as set out in § 2.</p> <p id=\"b233-6\" pgmap=\"233\">In W. R. Wrape Stave Company v. Arkansas State Game and Fish Commission, 215 Ark. 229, 219 S. W. 2d 948, we said that the underlying purpose of Amendment 35 was to vest in the Commission power to control, manage, restore, conserve, and regulate the State’s bird, fish, game, and wild life resources, and that funds arising from all sources were to be spent by the Commission for the purposes mentioned. Section 8 of the Amendment contains this additional language: “All moneys shall be deposited in the Game Protection Fund with the State Treasurer, and such moneys as are necessary, including an emergency fund, shall be appropriated by the Legislature at each legislative session for the use of the Game and Fish Commission as hereto set forth.”</p> <p id=\"b233-8\" pgmap=\"233\">We said in the Wrape Stave case that “money received from sources mentioned in the Amendment is not available — even with legislative approval — for any uses other than those expressed or necessarily implied.”</p> <p id=\"b233-9\" pgmap=\"233\">Appellant is correct in saying that the General Assembly cannot disburse Game and Fish funds. It should, as the Amendment contemplates, make appropriations to carry into effect the will of the people who adopted the instrument as a part of our Constitution; but in doing this the fundamental intent must be kept in sight.</p> <p id=\"b233-10\" pgmap=\"233(42) 234(117)\">This brings us to a consideration of the legislative right to amend, repeal, or otherwise change an initiated constitutional amendment. Under ‘ ‘ General Provisions, ’ ’ Amendment No. 7, “measure’.’ is defined as including any bill, law, resolution, ordinance, charter, constitutional amendment, or legislative proposal or enactment of any character. Neither the Governor nor any Mayor shall have power to veto measures initiated by or referred to the people. The following paragraph then appears: “No measure approved by a vote of the people shall be amended or repealed by the General Assembly or by any City Council, except upon a yea and nay vote on roll call of two-thirds of all members elected to each house of the General Assembly, or of the City Council, as the case may be.” Another provision prohibits the General Assembly from submitting “measures” to the people “except a proposed constitutional amendment or amendments as provided for in this Constitution. ’ ’</p> <p id=\"b234-4\" pgmap=\"234\">Some of the cases in which reference is made to Amendment No. 7, and the construction given it where issues differed from those before us, are shown in the footnote.<footnotemark>1</footnotemark> </p> <p id=\"b234-5\" pgmap=\"234(147) 235(29)\">The word “measure” or “measures” appears in each of the eight paragraphs under General Provisions. There are no numbered sections other than § 1. It will be observed that the definition of “measure” is that it shall include constitutional amendment[s] “or legislative proposals of any character.” If the language should be literally construed, then a constitutional amendment applicable to Little Rock alone, or to any other city, could be repealed by a vote of two-thirds of the members elected to the city council. By § 22 of Art. 19 of the Constitution, the General Assembly may submit constitutional amendments — not exceeding three at a session— for approval or rejection by the people. These amendments are spoken of as “measures,” hence if the definition in Amendment and Repeal is applied throughout, then any or all of the more than forty amendments to the constitution could be repealed by the required vote of the legislature. The result would be that initiated Acts and constitutional amendments would stand on about the same footing.</p> <p id=\"AWl\" pgmap=\"235\">It is inconceivable that in defining constitutional amendment as a measure the purpose was to invest the General Assembly with power (a) to repeal a constitutional amendment, or (b) with authority to amend an amendment — a power that could be exercised to such an extent that the entire meaning of a constitutional provision achieved through amendment could be changed by legislative action.</p> <p id=\"b235-5\" pgmap=\"235\">The clear intent of the Initiative and Beferendum Amendment was to give the people enlarged legislative and constitutional powers. Certainly if the purpose had been to take away fundamental security then enjoyed or to be acquired under the Amendment, the right of two-thirds of those elected to the General Assembly to treat amendments as though they had been referred to it would have been expressed in more emphatic terms.</p> <p id=\"b235-6\" pgmap=\"235\">The decree is reversed and the cause dismissed.</p> <p id=\"b235-7\" pgmap=\"235\">[The decision in this case was reached in December, 1950, and the result concurred in by all of the judges, two of whom are. not now on the court. Mr. Justice Ward and Mr. Justice Bobinson, therefore, did not participate in a determination of the issues, or in consideration of the opinion].</p> <footnote label=\"1\"> <p id=\"b234-6\" pgmap=\"234\"> Smith v. Lawson, 184 Ark. 825, 43 S. W. 2d 544; Coleman v. Sherrill, 189 Ark. 843, 75 S. W. 2d 248; Reeves v. Smith, 190 Ark. 213, 78 S. W. 2d 72; Beene v. Hutto, 192 Ark. 848, 96 S. W. 2d 485; Johnston V. Bramlett, 193 Ark. 71, 97 S. W. 2d 631; Carpenter v. City of Paragould, 198 Ark. 454, 128 S. W. 2d 980; Warfield v. Chotard, 202 Ark. 837, 153 S. W. 2d 168; Howard v. Stafford, 203 Ark. 736 — dissenting opinion by Mr. Justice Frank G. Smith at p. 740, 158 S. W. 2d 929; Morton and Ashcraft v. State, 207 Ark. 704, 182 S. W. 2d 675; Chastain v. City of Little Rock, 208 Ark. 142, 185 S. W. 2d 95; Dixon v. Hall, 210 Ark. 891, 198 R. W. 2d 1002: Cobb v. Burress, 213 Ark. 177, 209 S. W. 2d 694.</p> </footnote> </opinion> </casebody> ',\n",
       "  'status': 'ok'}}"
      ]
     },
     "execution_count": 10,
     "metadata": {},
     "output_type": "execute_result"
    }
   ],
   "source": []
  },
  {
   "cell_type": "code",
   "execution_count": 24,
   "metadata": {},
   "outputs": [
    {
     "data": {
      "text/plain": [
       "'<?xml version=\\'1.0\\' encoding=\\'utf-8\\'?>\\n<casebody xmlns=\"http://nrs.harvard.edu/urn-3:HLS.Libr.US_Case_Law.Schema.Case_Body:v1\" xmlns:xlink=\"http://www.w3.org/1999/xlink\" firstpage=\"207\" lastpage=\"211\"> <docketnumber id=\"b231-6\" pgmap=\"231\">4-9304</docketnumber> <citation id=\"A2j\" pgmap=\"231\">235 S. W. 2d 554</citation> <parties id=\"b231-5\" pgmap=\"231\">Arkansas Game and Fish Commission v. Edgmon.</parties> <decisiondate id=\"b231-7\" pgmap=\"231\">Opinion delivered January 15, 1951.</decisiondate> <attorneys id=\"b232-4\" pgmap=\"232\">Ed E. Ashbaugh, for appellant.</attorneys> <attorneys id=\"b232-5\" pgmap=\"232\">Neill Bohlinger, for intervening appellant.</attorneys> <opinion type=\"majority\"> <author id=\"b232-6\" pgmap=\"232\">Grieein Smith, Chief Justice.</author> <p id=\"ASCi\" pgmap=\"232\">The executive secretary of the State Game and Fish, Commission declined to authorize payment of $105 to four persons who claimed to have killed seven wolves over six months old, as evidenced by certificate of the Boone County Court. See Act 183 of 1949. The statute is entitled “An Act to authorize . . . counties ... to pay bounties for the killing of wolves and to provide that the State . . . shall pay an equal sum as a bounty, and for other purposes.” The emergency clause is a finding that farmers are suffering irreparable damage ‘£ from wolves destroying cattle and other live stock.” The measure received two-thirds of the votes of all members elected to each branch of the General Assembly.</p> <p id=\"b232-8\" pgmap=\"232\">The complaint is a petition for mandamus alleging that Boone county has paid bounties on the basis of $20 for each wolf killed; but, § 2 of Act 183, the amount payable by the State cannot exceed $15.</p> <p id=\"b232-9\" pgmap=\"232\">The answer, among other defenses, asserts that T. H. McAmis as Secretary of the Game and Fish Commission, Sec. 7, Amendment No. 35 to the Constitution, is not permitted to disburse the fund unless the Commission expressly directs payment; that none of the scalps for which a bounty is claimed is that of a wolf, hence the public has been defrauded by the substitution of dog scalps; and further, Act 183 is void because it is in conflict with Amendment 35 in that appropriations by the General Assembly may only be made for purposes enumerated in the Amendment or coming within its scope by necessary implication.</p> <p id=\"b232-10\" pgmap=\"232(48) 233(29)\">The Chancellor held that the certificate issued by the County Judge was conclusive and rejected expert witnesses who would have testified that the scalps came from dogs. One of the witnesses had spent 22 years as an employe of the TJ. S. Fish and Wild Life Service, trapping wolves in ten states. His reasons for asserting that the scalps in question were spurious were set out in detail for the purpose of making up a record.</p> <p id=\"b233-5\" pgmap=\"233\">Power of the Legislature to change an initiated constitutional amendment is presented by the plea that Act 183 received two-thirds of the votes of each branch of the lawmaking body. The Act, by § 4, appropriates from the Game Protection Fund $6,000 for each year of the biennium ending June 30, 1951, to pay bounties as set out in § 2.</p> <p id=\"b233-6\" pgmap=\"233\">In W. R. Wrape Stave Company v. Arkansas State Game and Fish Commission, 215 Ark. 229, 219 S. W. 2d 948, we said that the underlying purpose of Amendment 35 was to vest in the Commission power to control, manage, restore, conserve, and regulate the State’s bird, fish, game, and wild life resources, and that funds arising from all sources were to be spent by the Commission for the purposes mentioned. Section 8 of the Amendment contains this additional language: “All moneys shall be deposited in the Game Protection Fund with the State Treasurer, and such moneys as are necessary, including an emergency fund, shall be appropriated by the Legislature at each legislative session for the use of the Game and Fish Commission as hereto set forth.”</p> <p id=\"b233-8\" pgmap=\"233\">We said in the Wrape Stave case that “money received from sources mentioned in the Amendment is not available — even with legislative approval — for any uses other than those expressed or necessarily implied.”</p> <p id=\"b233-9\" pgmap=\"233\">Appellant is correct in saying that the General Assembly cannot disburse Game and Fish funds. It should, as the Amendment contemplates, make appropriations to carry into effect the will of the people who adopted the instrument as a part of our Constitution; but in doing this the fundamental intent must be kept in sight.</p> <p id=\"b233-10\" pgmap=\"233(42) 234(117)\">This brings us to a consideration of the legislative right to amend, repeal, or otherwise change an initiated constitutional amendment. Under ‘ ‘ General Provisions, ’ ’ Amendment No. 7, “measure’.’ is defined as including any bill, law, resolution, ordinance, charter, constitutional amendment, or legislative proposal or enactment of any character. Neither the Governor nor any Mayor shall have power to veto measures initiated by or referred to the people. The following paragraph then appears: “No measure approved by a vote of the people shall be amended or repealed by the General Assembly or by any City Council, except upon a yea and nay vote on roll call of two-thirds of all members elected to each house of the General Assembly, or of the City Council, as the case may be.” Another provision prohibits the General Assembly from submitting “measures” to the people “except a proposed constitutional amendment or amendments as provided for in this Constitution. ’ ’</p> <p id=\"b234-4\" pgmap=\"234\">Some of the cases in which reference is made to Amendment No. 7, and the construction given it where issues differed from those before us, are shown in the footnote.<footnotemark>1</footnotemark> </p> <p id=\"b234-5\" pgmap=\"234(147) 235(29)\">The word “measure” or “measures” appears in each of the eight paragraphs under General Provisions. There are no numbered sections other than § 1. It will be observed that the definition of “measure” is that it shall include constitutional amendment[s] “or legislative proposals of any character.” If the language should be literally construed, then a constitutional amendment applicable to Little Rock alone, or to any other city, could be repealed by a vote of two-thirds of the members elected to the city council. By § 22 of Art. 19 of the Constitution, the General Assembly may submit constitutional amendments — not exceeding three at a session— for approval or rejection by the people. These amendments are spoken of as “measures,” hence if the definition in Amendment and Repeal is applied throughout, then any or all of the more than forty amendments to the constitution could be repealed by the required vote of the legislature. The result would be that initiated Acts and constitutional amendments would stand on about the same footing.</p> <p id=\"AWl\" pgmap=\"235\">It is inconceivable that in defining constitutional amendment as a measure the purpose was to invest the General Assembly with power (a) to repeal a constitutional amendment, or (b) with authority to amend an amendment — a power that could be exercised to such an extent that the entire meaning of a constitutional provision achieved through amendment could be changed by legislative action.</p> <p id=\"b235-5\" pgmap=\"235\">The clear intent of the Initiative and Beferendum Amendment was to give the people enlarged legislative and constitutional powers. Certainly if the purpose had been to take away fundamental security then enjoyed or to be acquired under the Amendment, the right of two-thirds of those elected to the General Assembly to treat amendments as though they had been referred to it would have been expressed in more emphatic terms.</p> <p id=\"b235-6\" pgmap=\"235\">The decree is reversed and the cause dismissed.</p> <p id=\"b235-7\" pgmap=\"235\">[The decision in this case was reached in December, 1950, and the result concurred in by all of the judges, two of whom are. not now on the court. Mr. Justice Ward and Mr. Justice Bobinson, therefore, did not participate in a determination of the issues, or in consideration of the opinion].</p> <footnote label=\"1\"> <p id=\"b234-6\" pgmap=\"234\"> Smith v. Lawson, 184 Ark. 825, 43 S. W. 2d 544; Coleman v. Sherrill, 189 Ark. 843, 75 S. W. 2d 248; Reeves v. Smith, 190 Ark. 213, 78 S. W. 2d 72; Beene v. Hutto, 192 Ark. 848, 96 S. W. 2d 485; Johnston V. Bramlett, 193 Ark. 71, 97 S. W. 2d 631; Carpenter v. City of Paragould, 198 Ark. 454, 128 S. W. 2d 980; Warfield v. Chotard, 202 Ark. 837, 153 S. W. 2d 168; Howard v. Stafford, 203 Ark. 736 — dissenting opinion by Mr. Justice Frank G. Smith at p. 740, 158 S. W. 2d 929; Morton and Ashcraft v. State, 207 Ark. 704, 182 S. W. 2d 675; Chastain v. City of Little Rock, 208 Ark. 142, 185 S. W. 2d 95; Dixon v. Hall, 210 Ark. 891, 198 R. W. 2d 1002: Cobb v. Burress, 213 Ark. 177, 209 S. W. 2d 694.</p> </footnote> </opinion> </casebody> '"
      ]
     },
     "execution_count": 24,
     "metadata": {},
     "output_type": "execute_result"
    }
   ],
   "source": [
    "first_case['casebody']['data']"
   ]
  },
  {
   "cell_type": "code",
   "execution_count": 30,
   "metadata": {},
   "outputs": [
    {
     "data": {
      "text/plain": [
       "'<?xml version=\\'1.0\\' encoding=\\'utf-8\\'?>\\n<casebody xmlns=\"http://nrs.harvard.edu/urn-3:HLS.Libr.US_Case_Law.Schema.Case_Body:v1\" xmlns:xlink=\"http://www.w3.org/1999/xlink\" firstpage=\"207\" lastpage=\"211\"> <docketnumber id=\"b231-6\" pgmap=\"231\">4-9304</docketnumber> <citation id=\"A2j\" pgmap=\"231\">235 S. W. 2d 554</citation> <parties id=\"b231-5\" pgmap=\"231\">Arkansas Game and Fish Commission v. Edgmon.</parties> <decisiondate id=\"b231-7\" pgmap=\"231\">Opinion delivered January 15, 1951.</decisiondate> <attorneys id=\"b232-4\" pgmap=\"232\">Ed E. Ashbaugh, for appellant.</attorneys> <attorneys id=\"b232-5\" pgmap=\"232\">Neill Bohlinger, for intervening appellant.</attorneys> <opinion type=\"majority\"> <author id=\"b232-6\" pgmap=\"232\">Grieein Smith, Chief Justice.</author> <p id=\"ASCi\" pgmap=\"232\">The executive secretary of the State Game and Fish, Commission declined to authorize payment of $105 to four persons who claimed to have killed seven wolves over six months old, as evidenced by certificate of the Boone County Court. See Act 183 of 1949. The statute is entitled “An Act to authorize . . . counties ... to pay bounties for the killing of wolves and to provide that the State . . . shall pay an equal sum as a bounty, and for other purposes.” The emergency clause is a finding that farmers are suffering irreparable damage ‘£ from wolves destroying cattle and other live stock.” The measure received two-thirds of the votes of all members elected to each branch of the General Assembly.</p> <p id=\"b232-8\" pgmap=\"232\">The complaint is a petition for mandamus alleging that Boone county has paid bounties on the basis of $20 for each wolf killed; but, § 2 of Act 183, the amount payable by the State cannot exceed $15.</p> <p id=\"b232-9\" pgmap=\"232\">The answer, among other defenses, asserts that T. H. McAmis as Secretary of the Game and Fish Commission, Sec. 7, Amendment No. 35 to the Constitution, is not permitted to disburse the fund unless the Commission expressly directs payment; that none of the scalps for which a bounty is claimed is that of a wolf, hence the public has been defrauded by the substitution of dog scalps; and further, Act 183 is void because it is in conflict with Amendment 35 in that appropriations by the General Assembly may only be made for purposes enumerated in the Amendment or coming within its scope by necessary implication.</p> <p id=\"b232-10\" pgmap=\"232(48) 233(29)\">The Chancellor held that the certificate issued by the County Judge was conclusive and rejected expert witnesses who would have testified that the scalps came from dogs. One of the witnesses had spent 22 years as an employe of the TJ. S. Fish and Wild Life Service, trapping wolves in ten states. His reasons for asserting that the scalps in question were spurious were set out in detail for the purpose of making up a record.</p> <p id=\"b233-5\" pgmap=\"233\">Power of the Legislature to change an initiated constitutional amendment is presented by the plea that Act 183 received two-thirds of the votes of each branch of the lawmaking body. The Act, by § 4, appropriates from the Game Protection Fund $6,000 for each year of the biennium ending June 30, 1951, to pay bounties as set out in § 2.</p> <p id=\"b233-6\" pgmap=\"233\">In W. R. Wrape Stave Company v. Arkansas State Game and Fish Commission, 215 Ark. 229, 219 S. W. 2d 948, we said that the underlying purpose of Amendment 35 was to vest in the Commission power to control, manage, restore, conserve, and regulate the State’s bird, fish, game, and wild life resources, and that funds arising from all sources were to be spent by the Commission for the purposes mentioned. Section 8 of the Amendment contains this additional language: “All moneys shall be deposited in the Game Protection Fund with the State Treasurer, and such moneys as are necessary, including an emergency fund, shall be appropriated by the Legislature at each legislative session for the use of the Game and Fish Commission as hereto set forth.”</p> <p id=\"b233-8\" pgmap=\"233\">We said in the Wrape Stave case that “money received from sources mentioned in the Amendment is not available — even with legislative approval — for any uses other than those expressed or necessarily implied.”</p> <p id=\"b233-9\" pgmap=\"233\">Appellant is correct in saying that the General Assembly cannot disburse Game and Fish funds. It should, as the Amendment contemplates, make appropriations to carry into effect the will of the people who adopted the instrument as a part of our Constitution; but in doing this the fundamental intent must be kept in sight.</p> <p id=\"b233-10\" pgmap=\"233(42) 234(117)\">This brings us to a consideration of the legislative right to amend, repeal, or otherwise change an initiated constitutional amendment. Under ‘ ‘ General Provisions, ’ ’ Amendment No. 7, “measure’.’ is defined as including any bill, law, resolution, ordinance, charter, constitutional amendment, or legislative proposal or enactment of any character. Neither the Governor nor any Mayor shall have power to veto measures initiated by or referred to the people. The following paragraph then appears: “No measure approved by a vote of the people shall be amended or repealed by the General Assembly or by any City Council, except upon a yea and nay vote on roll call of two-thirds of all members elected to each house of the General Assembly, or of the City Council, as the case may be.” Another provision prohibits the General Assembly from submitting “measures” to the people “except a proposed constitutional amendment or amendments as provided for in this Constitution. ’ ’</p> <p id=\"b234-4\" pgmap=\"234\">Some of the cases in which reference is made to Amendment No. 7, and the construction given it where issues differed from those before us, are shown in the footnote.<footnotemark>1</footnotemark> </p> <p id=\"b234-5\" pgmap=\"234(147) 235(29)\">The word “measure” or “measures” appears in each of the eight paragraphs under General Provisions. There are no numbered sections other than § 1. It will be observed that the definition of “measure” is that it shall include constitutional amendment[s] “or legislative proposals of any character.” If the language should be literally construed, then a constitutional amendment applicable to Little Rock alone, or to any other city, could be repealed by a vote of two-thirds of the members elected to the city council. By § 22 of Art. 19 of the Constitution, the General Assembly may submit constitutional amendments — not exceeding three at a session— for approval or rejection by the people. These amendments are spoken of as “measures,” hence if the definition in Amendment and Repeal is applied throughout, then any or all of the more than forty amendments to the constitution could be repealed by the required vote of the legislature. The result would be that initiated Acts and constitutional amendments would stand on about the same footing.</p> <p id=\"AWl\" pgmap=\"235\">It is inconceivable that in defining constitutional amendment as a measure the purpose was to invest the General Assembly with power (a) to repeal a constitutional amendment, or (b) with authority to amend an amendment — a power that could be exercised to such an extent that the entire meaning of a constitutional provision achieved through amendment could be changed by legislative action.</p> <p id=\"b235-5\" pgmap=\"235\">The clear intent of the Initiative and Beferendum Amendment was to give the people enlarged legislative and constitutional powers. Certainly if the purpose had been to take away fundamental security then enjoyed or to be acquired under the Amendment, the right of two-thirds of those elected to the General Assembly to treat amendments as though they had been referred to it would have been expressed in more emphatic terms.</p> <p id=\"b235-6\" pgmap=\"235\">The decree is reversed and the cause dismissed.</p> <p id=\"b235-7\" pgmap=\"235\">[The decision in this case was reached in December, 1950, and the result concurred in by all of the judges, two of whom are. not now on the court. Mr. Justice Ward and Mr. Justice Bobinson, therefore, did not participate in a determination of the issues, or in consideration of the opinion].</p> <footnote label=\"1\"> <p id=\"b234-6\" pgmap=\"234\"> Smith v. Lawson, 184 Ark. 825, 43 S. W. 2d 544; Coleman v. Sherrill, 189 Ark. 843, 75 S. W. 2d 248; Reeves v. Smith, 190 Ark. 213, 78 S. W. 2d 72; Beene v. Hutto, 192 Ark. 848, 96 S. W. 2d 485; Johnston V. Bramlett, 193 Ark. 71, 97 S. W. 2d 631; Carpenter v. City of Paragould, 198 Ark. 454, 128 S. W. 2d 980; Warfield v. Chotard, 202 Ark. 837, 153 S. W. 2d 168; Howard v. Stafford, 203 Ark. 736 — dissenting opinion by Mr. Justice Frank G. Smith at p. 740, 158 S. W. 2d 929; Morton and Ashcraft v. State, 207 Ark. 704, 182 S. W. 2d 675; Chastain v. City of Little Rock, 208 Ark. 142, 185 S. W. 2d 95; Dixon v. Hall, 210 Ark. 891, 198 R. W. 2d 1002: Cobb v. Burress, 213 Ark. 177, 209 S. W. 2d 694.</p> </footnote> </opinion> </casebody> '"
      ]
     },
     "execution_count": 30,
     "metadata": {},
     "output_type": "execute_result"
    }
   ],
   "source": [
    "first_case['casebody']['data']"
   ]
  },
  {
   "cell_type": "code",
   "execution_count": 28,
   "metadata": {},
   "outputs": [],
   "source": [
    "import xml.etree.ElementTree as ET\n",
    "root = ET.fromstring(first_case['casebody']['data'])"
   ]
  },
  {
   "cell_type": "code",
   "execution_count": 29,
   "metadata": {},
   "outputs": [
    {
     "data": {
      "text/plain": [
       "<Element '{http://nrs.harvard.edu/urn-3:HLS.Libr.US_Case_Law.Schema.Case_Body:v1}casebody' at 0x1137d4ef8>"
      ]
     },
     "execution_count": 29,
     "metadata": {},
     "output_type": "execute_result"
    }
   ],
   "source": [
    "root"
   ]
  },
  {
   "cell_type": "code",
   "execution_count": 31,
   "metadata": {},
   "outputs": [
    {
     "name": "stdout",
     "output_type": "stream",
     "text": [
      "docketnumber : 4-9304\n",
      "===========================================\n",
      "citation : 235 S. W. 2d 554\n",
      "===========================================\n",
      "parties : Arkansas Game and Fish Commission v. Edgmon.\n",
      "===========================================\n",
      "decisiondate : Opinion delivered January 15, 1951.\n",
      "===========================================\n",
      "attorneys : Ed E. Ashbaugh, for appellant.\n",
      "===========================================\n",
      "attorneys : Neill Bohlinger, for intervening appellant.\n",
      "===========================================\n",
      "opinion :  \n",
      "===========================================\n",
      "     author : Grieein Smith, Chief Justice.\n",
      "--------------------------\n",
      "     p : The executive secretary of the State Game and Fish, Commission declined to authorize payment of $105 to four persons who claimed to have killed seven wolves over six months old, as evidenced by certificate of the Boone County Court. See Act 183 of 1949. The statute is entitled “An Act to authorize . . . counties ... to pay bounties for the killing of wolves and to provide that the State . . . shall pay an equal sum as a bounty, and for other purposes.” The emergency clause is a finding that farmers are suffering irreparable damage ‘£ from wolves destroying cattle and other live stock.” The measure received two-thirds of the votes of all members elected to each branch of the General Assembly.\n",
      "--------------------------\n",
      "     p : The complaint is a petition for mandamus alleging that Boone county has paid bounties on the basis of $20 for each wolf killed; but, § 2 of Act 183, the amount payable by the State cannot exceed $15.\n",
      "--------------------------\n",
      "     p : The answer, among other defenses, asserts that T. H. McAmis as Secretary of the Game and Fish Commission, Sec. 7, Amendment No. 35 to the Constitution, is not permitted to disburse the fund unless the Commission expressly directs payment; that none of the scalps for which a bounty is claimed is that of a wolf, hence the public has been defrauded by the substitution of dog scalps; and further, Act 183 is void because it is in conflict with Amendment 35 in that appropriations by the General Assembly may only be made for purposes enumerated in the Amendment or coming within its scope by necessary implication.\n",
      "--------------------------\n",
      "     p : The Chancellor held that the certificate issued by the County Judge was conclusive and rejected expert witnesses who would have testified that the scalps came from dogs. One of the witnesses had spent 22 years as an employe of the TJ. S. Fish and Wild Life Service, trapping wolves in ten states. His reasons for asserting that the scalps in question were spurious were set out in detail for the purpose of making up a record.\n",
      "--------------------------\n",
      "     p : Power of the Legislature to change an initiated constitutional amendment is presented by the plea that Act 183 received two-thirds of the votes of each branch of the lawmaking body. The Act, by § 4, appropriates from the Game Protection Fund $6,000 for each year of the biennium ending June 30, 1951, to pay bounties as set out in § 2.\n",
      "--------------------------\n",
      "     p : In W. R. Wrape Stave Company v. Arkansas State Game and Fish Commission, 215 Ark. 229, 219 S. W. 2d 948, we said that the underlying purpose of Amendment 35 was to vest in the Commission power to control, manage, restore, conserve, and regulate the State’s bird, fish, game, and wild life resources, and that funds arising from all sources were to be spent by the Commission for the purposes mentioned. Section 8 of the Amendment contains this additional language: “All moneys shall be deposited in the Game Protection Fund with the State Treasurer, and such moneys as are necessary, including an emergency fund, shall be appropriated by the Legislature at each legislative session for the use of the Game and Fish Commission as hereto set forth.”\n",
      "--------------------------\n",
      "     p : We said in the Wrape Stave case that “money received from sources mentioned in the Amendment is not available — even with legislative approval — for any uses other than those expressed or necessarily implied.”\n",
      "--------------------------\n",
      "     p : Appellant is correct in saying that the General Assembly cannot disburse Game and Fish funds. It should, as the Amendment contemplates, make appropriations to carry into effect the will of the people who adopted the instrument as a part of our Constitution; but in doing this the fundamental intent must be kept in sight.\n",
      "--------------------------\n",
      "     p : This brings us to a consideration of the legislative right to amend, repeal, or otherwise change an initiated constitutional amendment. Under ‘ ‘ General Provisions, ’ ’ Amendment No. 7, “measure’.’ is defined as including any bill, law, resolution, ordinance, charter, constitutional amendment, or legislative proposal or enactment of any character. Neither the Governor nor any Mayor shall have power to veto measures initiated by or referred to the people. The following paragraph then appears: “No measure approved by a vote of the people shall be amended or repealed by the General Assembly or by any City Council, except upon a yea and nay vote on roll call of two-thirds of all members elected to each house of the General Assembly, or of the City Council, as the case may be.” Another provision prohibits the General Assembly from submitting “measures” to the people “except a proposed constitutional amendment or amendments as provided for in this Constitution. ’ ’\n",
      "--------------------------\n",
      "     p : Some of the cases in which reference is made to Amendment No. 7, and the construction given it where issues differed from those before us, are shown in the footnote.\n",
      "--------------------------\n",
      "     footnotemark : 1\n",
      "     p : The word “measure” or “measures” appears in each of the eight paragraphs under General Provisions. There are no numbered sections other than § 1. It will be observed that the definition of “measure” is that it shall include constitutional amendment[s] “or legislative proposals of any character.” If the language should be literally construed, then a constitutional amendment applicable to Little Rock alone, or to any other city, could be repealed by a vote of two-thirds of the members elected to the city council. By § 22 of Art. 19 of the Constitution, the General Assembly may submit constitutional amendments — not exceeding three at a session— for approval or rejection by the people. These amendments are spoken of as “measures,” hence if the definition in Amendment and Repeal is applied throughout, then any or all of the more than forty amendments to the constitution could be repealed by the required vote of the legislature. The result would be that initiated Acts and constitutional amendments would stand on about the same footing.\n",
      "--------------------------\n",
      "     p : It is inconceivable that in defining constitutional amendment as a measure the purpose was to invest the General Assembly with power (a) to repeal a constitutional amendment, or (b) with authority to amend an amendment — a power that could be exercised to such an extent that the entire meaning of a constitutional provision achieved through amendment could be changed by legislative action.\n",
      "--------------------------\n",
      "     p : The clear intent of the Initiative and Beferendum Amendment was to give the people enlarged legislative and constitutional powers. Certainly if the purpose had been to take away fundamental security then enjoyed or to be acquired under the Amendment, the right of two-thirds of those elected to the General Assembly to treat amendments as though they had been referred to it would have been expressed in more emphatic terms.\n",
      "--------------------------\n",
      "     p : The decree is reversed and the cause dismissed.\n",
      "--------------------------\n",
      "     p : [The decision in this case was reached in December, 1950, and the result concurred in by all of the judges, two of whom are. not now on the court. Mr. Justice Ward and Mr. Justice Bobinson, therefore, did not participate in a determination of the issues, or in consideration of the opinion].\n",
      "--------------------------\n",
      "     footnote :  \n",
      "--------------------------\n",
      "     p :  Smith v. Lawson, 184 Ark. 825, 43 S. W. 2d 544; Coleman v. Sherrill, 189 Ark. 843, 75 S. W. 2d 248; Reeves v. Smith, 190 Ark. 213, 78 S. W. 2d 72; Beene v. Hutto, 192 Ark. 848, 96 S. W. 2d 485; Johnston V. Bramlett, 193 Ark. 71, 97 S. W. 2d 631; Carpenter v. City of Paragould, 198 Ark. 454, 128 S. W. 2d 980; Warfield v. Chotard, 202 Ark. 837, 153 S. W. 2d 168; Howard v. Stafford, 203 Ark. 736 — dissenting opinion by Mr. Justice Frank G. Smith at p. 740, 158 S. W. 2d 929; Morton and Ashcraft v. State, 207 Ark. 704, 182 S. W. 2d 675; Chastain v. City of Little Rock, 208 Ark. 142, 185 S. W. 2d 95; Dixon v. Hall, 210 Ark. 891, 198 R. W. 2d 1002: Cobb v. Burress, 213 Ark. 177, 209 S. W. 2d 694.\n"
     ]
    }
   ],
   "source": [
    "for child in root:\n",
    "    print(child.tag[child.tag.index(\"}\")+1:],\":\",child.text)\n",
    "    print(\"===========================================\")\n",
    "    for sub_child in child:\n",
    "        print(\"     \"+sub_child.tag[sub_child.tag.index(\"}\")+1:], \":\", sub_child.text)\n",
    "        print('--------------------------')\n",
    "        for sub_sub_child in sub_child:\n",
    "            print(\"     \"+sub_sub_child.tag[sub_sub_child.tag.index(\"}\")+1:],\":\",sub_sub_child.text)"
   ]
  },
  {
   "cell_type": "code",
   "execution_count": null,
   "metadata": {},
   "outputs": [],
   "source": [
    "# dude a vs dude b\n",
    "# petitioner vs respondent "
   ]
  },
  {
   "cell_type": "code",
   "execution_count": null,
   "metadata": {},
   "outputs": [],
   "source": []
  }
 ],
 "metadata": {
  "kernelspec": {
   "display_name": "Python 3",
   "language": "python",
   "name": "python3"
  },
  "language_info": {
   "codemirror_mode": {
    "name": "ipython",
    "version": 3
   },
   "file_extension": ".py",
   "mimetype": "text/x-python",
   "name": "python",
   "nbconvert_exporter": "python",
   "pygments_lexer": "ipython3",
   "version": "3.7.0"
  }
 },
 "nbformat": 4,
 "nbformat_minor": 2
}
